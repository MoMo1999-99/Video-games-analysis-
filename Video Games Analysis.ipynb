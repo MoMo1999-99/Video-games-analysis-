{
 "cells": [
  {
   "cell_type": "markdown",
   "id": "f01f784b",
   "metadata": {},
   "source": [
    "# Video Games Analysis\n",
    "\n",
    "*  Rank - Ranking of overall sales\n",
    "*  Name - The games name\n",
    "* Platform - Platform of the games release (i.e. PC,PS4, etc.)\n",
    "* Year - Year of the game's release\n",
    "* Genre - Genre of the game\n",
    "* Publisher - Publisher of the game\n",
    "* NA_Sales - Sales in North America (in millions)\n",
    "* EU_Sales - Sales in Europe (in millions)\n",
    "* JP_Sales - Sales in Japan (in millions)\n",
    "* Other_Sales - Sales in the rest of the world (in millions)\n",
    "* Global_Sales - Total worldwide sales."
   ]
  },
  {
   "cell_type": "markdown",
   "id": "d0b9df77",
   "metadata": {},
   "source": [
    "# Steps & Questions For Analysis\n",
    "\n",
    "\n",
    "#### Importing libraries\n",
    "#### loading data\n",
    "#### Exploring Data\n",
    "#### Correlation between data\n",
    "#### Types of genre\n",
    "#### what is the best 5 genre ?\n",
    "#### what is the top 5 Action games ?\n",
    "#### what is top 5 sports games ?\n",
    "#### what is the top 5 Misc games ?\n",
    "#### what is the top 5 Role-Playing games \n",
    "#### what is the best shooter games?\n",
    "#### Cleanning the data\n",
    "#### Which are the genres with highest sales in North America ?\n",
    "#### Which are the genres with highest sales in Europe ?\n",
    "#### Which are the genres with highest sales in japan ?\n",
    "#### Which are the genres with highest sales in of The total worldwide ?\n",
    "#### what is tha best publisher by GLobal sales ?\n",
    "#### what is tha best Platform by GLobal sales ?\n",
    "#### what is the trend of video games Sales between regions ?\n"
   ]
  },
  {
   "cell_type": "markdown",
   "id": "55e93176",
   "metadata": {},
   "source": [
    "#### Importing libraries"
   ]
  },
  {
   "cell_type": "code",
   "execution_count": 18,
   "id": "e8bbc7cc",
   "metadata": {},
   "outputs": [],
   "source": [
    "import pandas as pd \n",
    "import numpy as np\n",
    "import seaborn as sns \n",
    "sns.set(rc={'figure.figsize': [5,5]} , font_scale = 1.0)"
   ]
  },
  {
   "cell_type": "markdown",
   "id": "cac08571",
   "metadata": {},
   "source": [
    "#### loading data "
   ]
  },
  {
   "cell_type": "code",
   "execution_count": 4,
   "id": "058c2260",
   "metadata": {},
   "outputs": [],
   "source": [
    "data = pd.read_csv('vgsales.csv')"
   ]
  },
  {
   "cell_type": "markdown",
   "id": "ff0b6479",
   "metadata": {},
   "source": [
    "#### Exploring Data"
   ]
  },
  {
   "cell_type": "code",
   "execution_count": 7,
   "id": "81ada62f",
   "metadata": {},
   "outputs": [
    {
     "name": "stdout",
     "output_type": "stream",
     "text": [
      "<class 'pandas.core.frame.DataFrame'>\n",
      "RangeIndex: 16598 entries, 0 to 16597\n",
      "Data columns (total 11 columns):\n",
      " #   Column        Non-Null Count  Dtype  \n",
      "---  ------        --------------  -----  \n",
      " 0   Rank          16598 non-null  int64  \n",
      " 1   Name          16598 non-null  object \n",
      " 2   Platform      16598 non-null  object \n",
      " 3   Year          16327 non-null  float64\n",
      " 4   Genre         16598 non-null  object \n",
      " 5   Publisher     16540 non-null  object \n",
      " 6   NA_Sales      16598 non-null  float64\n",
      " 7   EU_Sales      16598 non-null  float64\n",
      " 8   JP_Sales      16598 non-null  float64\n",
      " 9   Other_Sales   16598 non-null  float64\n",
      " 10  Global_Sales  16598 non-null  float64\n",
      "dtypes: float64(6), int64(1), object(4)\n",
      "memory usage: 1.4+ MB\n"
     ]
    }
   ],
   "source": [
    "data.info()"
   ]
  },
  {
   "cell_type": "code",
   "execution_count": 8,
   "id": "113bd612",
   "metadata": {},
   "outputs": [
    {
     "data": {
      "text/plain": [
       "16598"
      ]
     },
     "execution_count": 8,
     "metadata": {},
     "output_type": "execute_result"
    }
   ],
   "source": [
    "#no of rows\n",
    "data.shape[0]"
   ]
  },
  {
   "cell_type": "code",
   "execution_count": 9,
   "id": "a0e0d4e0",
   "metadata": {
    "scrolled": true
   },
   "outputs": [
    {
     "data": {
      "text/plain": [
       "Index(['Rank', 'Name', 'Platform', 'Year', 'Genre', 'Publisher', 'NA_Sales',\n",
       "       'EU_Sales', 'JP_Sales', 'Other_Sales', 'Global_Sales'],\n",
       "      dtype='object')"
      ]
     },
     "execution_count": 9,
     "metadata": {},
     "output_type": "execute_result"
    }
   ],
   "source": [
    "data.columns"
   ]
  },
  {
   "cell_type": "code",
   "execution_count": 10,
   "id": "8603928c",
   "metadata": {},
   "outputs": [
    {
     "data": {
      "text/plain": [
       "271"
      ]
     },
     "execution_count": 10,
     "metadata": {},
     "output_type": "execute_result"
    }
   ],
   "source": [
    "data['Year'].isnull().sum()"
   ]
  },
  {
   "cell_type": "code",
   "execution_count": 11,
   "id": "9251ddee",
   "metadata": {},
   "outputs": [
    {
     "data": {
      "text/plain": [
       "58"
      ]
     },
     "execution_count": 11,
     "metadata": {},
     "output_type": "execute_result"
    }
   ],
   "source": [
    "data['Publisher'].isnull().sum()"
   ]
  },
  {
   "cell_type": "code",
   "execution_count": 12,
   "id": "7312f3e5",
   "metadata": {
    "scrolled": false
   },
   "outputs": [
    {
     "data": {
      "text/html": [
       "<div>\n",
       "<style scoped>\n",
       "    .dataframe tbody tr th:only-of-type {\n",
       "        vertical-align: middle;\n",
       "    }\n",
       "\n",
       "    .dataframe tbody tr th {\n",
       "        vertical-align: top;\n",
       "    }\n",
       "\n",
       "    .dataframe thead th {\n",
       "        text-align: right;\n",
       "    }\n",
       "</style>\n",
       "<table border=\"1\" class=\"dataframe\">\n",
       "  <thead>\n",
       "    <tr style=\"text-align: right;\">\n",
       "      <th></th>\n",
       "      <th>Rank</th>\n",
       "      <th>Name</th>\n",
       "      <th>Platform</th>\n",
       "      <th>Year</th>\n",
       "      <th>Genre</th>\n",
       "      <th>Publisher</th>\n",
       "      <th>NA_Sales</th>\n",
       "      <th>EU_Sales</th>\n",
       "      <th>JP_Sales</th>\n",
       "      <th>Other_Sales</th>\n",
       "      <th>Global_Sales</th>\n",
       "    </tr>\n",
       "  </thead>\n",
       "  <tbody>\n",
       "    <tr>\n",
       "      <th>0</th>\n",
       "      <td>1</td>\n",
       "      <td>Wii Sports</td>\n",
       "      <td>Wii</td>\n",
       "      <td>2006.0</td>\n",
       "      <td>Sports</td>\n",
       "      <td>Nintendo</td>\n",
       "      <td>41.49</td>\n",
       "      <td>29.02</td>\n",
       "      <td>3.77</td>\n",
       "      <td>8.46</td>\n",
       "      <td>82.74</td>\n",
       "    </tr>\n",
       "    <tr>\n",
       "      <th>1</th>\n",
       "      <td>2</td>\n",
       "      <td>Super Mario Bros.</td>\n",
       "      <td>NES</td>\n",
       "      <td>1985.0</td>\n",
       "      <td>Platform</td>\n",
       "      <td>Nintendo</td>\n",
       "      <td>29.08</td>\n",
       "      <td>3.58</td>\n",
       "      <td>6.81</td>\n",
       "      <td>0.77</td>\n",
       "      <td>40.24</td>\n",
       "    </tr>\n",
       "    <tr>\n",
       "      <th>2</th>\n",
       "      <td>3</td>\n",
       "      <td>Mario Kart Wii</td>\n",
       "      <td>Wii</td>\n",
       "      <td>2008.0</td>\n",
       "      <td>Racing</td>\n",
       "      <td>Nintendo</td>\n",
       "      <td>15.85</td>\n",
       "      <td>12.88</td>\n",
       "      <td>3.79</td>\n",
       "      <td>3.31</td>\n",
       "      <td>35.82</td>\n",
       "    </tr>\n",
       "    <tr>\n",
       "      <th>3</th>\n",
       "      <td>4</td>\n",
       "      <td>Wii Sports Resort</td>\n",
       "      <td>Wii</td>\n",
       "      <td>2009.0</td>\n",
       "      <td>Sports</td>\n",
       "      <td>Nintendo</td>\n",
       "      <td>15.75</td>\n",
       "      <td>11.01</td>\n",
       "      <td>3.28</td>\n",
       "      <td>2.96</td>\n",
       "      <td>33.00</td>\n",
       "    </tr>\n",
       "    <tr>\n",
       "      <th>4</th>\n",
       "      <td>5</td>\n",
       "      <td>Pokemon Red/Pokemon Blue</td>\n",
       "      <td>GB</td>\n",
       "      <td>1996.0</td>\n",
       "      <td>Role-Playing</td>\n",
       "      <td>Nintendo</td>\n",
       "      <td>11.27</td>\n",
       "      <td>8.89</td>\n",
       "      <td>10.22</td>\n",
       "      <td>1.00</td>\n",
       "      <td>31.37</td>\n",
       "    </tr>\n",
       "  </tbody>\n",
       "</table>\n",
       "</div>"
      ],
      "text/plain": [
       "   Rank                      Name Platform    Year         Genre Publisher  \\\n",
       "0     1                Wii Sports      Wii  2006.0        Sports  Nintendo   \n",
       "1     2         Super Mario Bros.      NES  1985.0      Platform  Nintendo   \n",
       "2     3            Mario Kart Wii      Wii  2008.0        Racing  Nintendo   \n",
       "3     4         Wii Sports Resort      Wii  2009.0        Sports  Nintendo   \n",
       "4     5  Pokemon Red/Pokemon Blue       GB  1996.0  Role-Playing  Nintendo   \n",
       "\n",
       "   NA_Sales  EU_Sales  JP_Sales  Other_Sales  Global_Sales  \n",
       "0     41.49     29.02      3.77         8.46         82.74  \n",
       "1     29.08      3.58      6.81         0.77         40.24  \n",
       "2     15.85     12.88      3.79         3.31         35.82  \n",
       "3     15.75     11.01      3.28         2.96         33.00  \n",
       "4     11.27      8.89     10.22         1.00         31.37  "
      ]
     },
     "execution_count": 12,
     "metadata": {},
     "output_type": "execute_result"
    }
   ],
   "source": [
    "data.head()"
   ]
  },
  {
   "cell_type": "markdown",
   "id": "e7aeb728",
   "metadata": {},
   "source": [
    "#### Correlation between  columns"
   ]
  },
  {
   "cell_type": "code",
   "execution_count": 13,
   "id": "034c7dc3",
   "metadata": {
    "scrolled": true
   },
   "outputs": [
    {
     "data": {
      "text/html": [
       "<div>\n",
       "<style scoped>\n",
       "    .dataframe tbody tr th:only-of-type {\n",
       "        vertical-align: middle;\n",
       "    }\n",
       "\n",
       "    .dataframe tbody tr th {\n",
       "        vertical-align: top;\n",
       "    }\n",
       "\n",
       "    .dataframe thead th {\n",
       "        text-align: right;\n",
       "    }\n",
       "</style>\n",
       "<table border=\"1\" class=\"dataframe\">\n",
       "  <thead>\n",
       "    <tr style=\"text-align: right;\">\n",
       "      <th></th>\n",
       "      <th>Rank</th>\n",
       "      <th>Year</th>\n",
       "      <th>NA_Sales</th>\n",
       "      <th>EU_Sales</th>\n",
       "      <th>JP_Sales</th>\n",
       "      <th>Other_Sales</th>\n",
       "      <th>Global_Sales</th>\n",
       "    </tr>\n",
       "  </thead>\n",
       "  <tbody>\n",
       "    <tr>\n",
       "      <th>Rank</th>\n",
       "      <td>1.000000</td>\n",
       "      <td>0.178814</td>\n",
       "      <td>-0.401362</td>\n",
       "      <td>-0.379123</td>\n",
       "      <td>-0.267785</td>\n",
       "      <td>-0.332986</td>\n",
       "      <td>-0.427407</td>\n",
       "    </tr>\n",
       "    <tr>\n",
       "      <th>Year</th>\n",
       "      <td>0.178814</td>\n",
       "      <td>1.000000</td>\n",
       "      <td>-0.091402</td>\n",
       "      <td>0.006014</td>\n",
       "      <td>-0.169316</td>\n",
       "      <td>0.041058</td>\n",
       "      <td>-0.074735</td>\n",
       "    </tr>\n",
       "    <tr>\n",
       "      <th>NA_Sales</th>\n",
       "      <td>-0.401362</td>\n",
       "      <td>-0.091402</td>\n",
       "      <td>1.000000</td>\n",
       "      <td>0.767727</td>\n",
       "      <td>0.449787</td>\n",
       "      <td>0.634737</td>\n",
       "      <td>0.941047</td>\n",
       "    </tr>\n",
       "    <tr>\n",
       "      <th>EU_Sales</th>\n",
       "      <td>-0.379123</td>\n",
       "      <td>0.006014</td>\n",
       "      <td>0.767727</td>\n",
       "      <td>1.000000</td>\n",
       "      <td>0.435584</td>\n",
       "      <td>0.726385</td>\n",
       "      <td>0.902836</td>\n",
       "    </tr>\n",
       "    <tr>\n",
       "      <th>JP_Sales</th>\n",
       "      <td>-0.267785</td>\n",
       "      <td>-0.169316</td>\n",
       "      <td>0.449787</td>\n",
       "      <td>0.435584</td>\n",
       "      <td>1.000000</td>\n",
       "      <td>0.290186</td>\n",
       "      <td>0.611816</td>\n",
       "    </tr>\n",
       "    <tr>\n",
       "      <th>Other_Sales</th>\n",
       "      <td>-0.332986</td>\n",
       "      <td>0.041058</td>\n",
       "      <td>0.634737</td>\n",
       "      <td>0.726385</td>\n",
       "      <td>0.290186</td>\n",
       "      <td>1.000000</td>\n",
       "      <td>0.748331</td>\n",
       "    </tr>\n",
       "    <tr>\n",
       "      <th>Global_Sales</th>\n",
       "      <td>-0.427407</td>\n",
       "      <td>-0.074735</td>\n",
       "      <td>0.941047</td>\n",
       "      <td>0.902836</td>\n",
       "      <td>0.611816</td>\n",
       "      <td>0.748331</td>\n",
       "      <td>1.000000</td>\n",
       "    </tr>\n",
       "  </tbody>\n",
       "</table>\n",
       "</div>"
      ],
      "text/plain": [
       "                  Rank      Year  NA_Sales  EU_Sales  JP_Sales  Other_Sales  \\\n",
       "Rank          1.000000  0.178814 -0.401362 -0.379123 -0.267785    -0.332986   \n",
       "Year          0.178814  1.000000 -0.091402  0.006014 -0.169316     0.041058   \n",
       "NA_Sales     -0.401362 -0.091402  1.000000  0.767727  0.449787     0.634737   \n",
       "EU_Sales     -0.379123  0.006014  0.767727  1.000000  0.435584     0.726385   \n",
       "JP_Sales     -0.267785 -0.169316  0.449787  0.435584  1.000000     0.290186   \n",
       "Other_Sales  -0.332986  0.041058  0.634737  0.726385  0.290186     1.000000   \n",
       "Global_Sales -0.427407 -0.074735  0.941047  0.902836  0.611816     0.748331   \n",
       "\n",
       "              Global_Sales  \n",
       "Rank             -0.427407  \n",
       "Year             -0.074735  \n",
       "NA_Sales          0.941047  \n",
       "EU_Sales          0.902836  \n",
       "JP_Sales          0.611816  \n",
       "Other_Sales       0.748331  \n",
       "Global_Sales      1.000000  "
      ]
     },
     "execution_count": 13,
     "metadata": {},
     "output_type": "execute_result"
    }
   ],
   "source": [
    "data.corr()"
   ]
  },
  {
   "cell_type": "markdown",
   "id": "59e94161",
   "metadata": {},
   "source": [
    "#### Types of genre "
   ]
  },
  {
   "cell_type": "code",
   "execution_count": 14,
   "id": "5bf48dc5",
   "metadata": {
    "scrolled": true
   },
   "outputs": [
    {
     "data": {
      "text/plain": [
       "array(['Sports', 'Platform', 'Racing', 'Role-Playing', 'Puzzle', 'Misc',\n",
       "       'Shooter', 'Simulation', 'Action', 'Fighting', 'Adventure',\n",
       "       'Strategy'], dtype=object)"
      ]
     },
     "execution_count": 14,
     "metadata": {},
     "output_type": "execute_result"
    }
   ],
   "source": [
    "# Explore genre index\n",
    "data['Genre'].unique()"
   ]
  },
  {
   "cell_type": "markdown",
   "id": "9f1dcc8c",
   "metadata": {},
   "source": [
    "**what is the best 5 genre ?**"
   ]
  },
  {
   "cell_type": "code",
   "execution_count": 15,
   "id": "f8590250",
   "metadata": {
    "scrolled": true
   },
   "outputs": [
    {
     "data": {
      "text/plain": [
       "Action          3316\n",
       "Sports          2346\n",
       "Misc            1739\n",
       "Role-Playing    1488\n",
       "Shooter         1310\n",
       "Name: Genre, dtype: int64"
      ]
     },
     "execution_count": 15,
     "metadata": {},
     "output_type": "execute_result"
    }
   ],
   "source": [
    "# best 5 genre \n",
    "data['Genre'].value_counts().head()"
   ]
  },
  {
   "cell_type": "code",
   "execution_count": 12,
   "id": "9fb96403",
   "metadata": {
    "scrolled": false
   },
   "outputs": [
    {
     "data": {
      "text/plain": [
       "<AxesSubplot:xlabel='Genre', ylabel='count'>"
      ]
     },
     "execution_count": 12,
     "metadata": {},
     "output_type": "execute_result"
    },
    {
     "data": {
      "image/png": "[encoded data removed]",
      "text/plain": [
       "<Figure size 864x864 with 1 Axes>"
      ]
     },
     "metadata": {},
     "output_type": "display_data"
    }
   ],
   "source": [
    "sns.countplot(x='Genre' , data = data)"
   ]
  },
  {
   "cell_type": "markdown",
   "id": "910bd421",
   "metadata": {},
   "source": [
    "**what is the top 5 Action games ?**"
   ]
  },
  {
   "cell_type": "code",
   "execution_count": 16,
   "id": "333baa35",
   "metadata": {
    "scrolled": false
   },
   "outputs": [
    {
     "data": {
      "text/html": [
       "<div>\n",
       "<style scoped>\n",
       "    .dataframe tbody tr th:only-of-type {\n",
       "        vertical-align: middle;\n",
       "    }\n",
       "\n",
       "    .dataframe tbody tr th {\n",
       "        vertical-align: top;\n",
       "    }\n",
       "\n",
       "    .dataframe thead th {\n",
       "        text-align: right;\n",
       "    }\n",
       "</style>\n",
       "<table border=\"1\" class=\"dataframe\">\n",
       "  <thead>\n",
       "    <tr style=\"text-align: right;\">\n",
       "      <th></th>\n",
       "      <th>Rank</th>\n",
       "      <th>Name</th>\n",
       "      <th>Platform</th>\n",
       "      <th>Year</th>\n",
       "      <th>Genre</th>\n",
       "      <th>Publisher</th>\n",
       "      <th>NA_Sales</th>\n",
       "      <th>EU_Sales</th>\n",
       "      <th>JP_Sales</th>\n",
       "      <th>Other_Sales</th>\n",
       "      <th>Global_Sales</th>\n",
       "    </tr>\n",
       "  </thead>\n",
       "  <tbody>\n",
       "    <tr>\n",
       "      <th>16</th>\n",
       "      <td>17</td>\n",
       "      <td>Grand Theft Auto V</td>\n",
       "      <td>PS3</td>\n",
       "      <td>2013.0</td>\n",
       "      <td>Action</td>\n",
       "      <td>Take-Two Interactive</td>\n",
       "      <td>7.01</td>\n",
       "      <td>9.27</td>\n",
       "      <td>0.97</td>\n",
       "      <td>4.14</td>\n",
       "      <td>21.40</td>\n",
       "    </tr>\n",
       "    <tr>\n",
       "      <th>17</th>\n",
       "      <td>18</td>\n",
       "      <td>Grand Theft Auto: San Andreas</td>\n",
       "      <td>PS2</td>\n",
       "      <td>2004.0</td>\n",
       "      <td>Action</td>\n",
       "      <td>Take-Two Interactive</td>\n",
       "      <td>9.43</td>\n",
       "      <td>0.40</td>\n",
       "      <td>0.41</td>\n",
       "      <td>10.57</td>\n",
       "      <td>20.81</td>\n",
       "    </tr>\n",
       "    <tr>\n",
       "      <th>23</th>\n",
       "      <td>24</td>\n",
       "      <td>Grand Theft Auto V</td>\n",
       "      <td>X360</td>\n",
       "      <td>2013.0</td>\n",
       "      <td>Action</td>\n",
       "      <td>Take-Two Interactive</td>\n",
       "      <td>9.63</td>\n",
       "      <td>5.31</td>\n",
       "      <td>0.06</td>\n",
       "      <td>1.38</td>\n",
       "      <td>16.38</td>\n",
       "    </tr>\n",
       "    <tr>\n",
       "      <th>24</th>\n",
       "      <td>25</td>\n",
       "      <td>Grand Theft Auto: Vice City</td>\n",
       "      <td>PS2</td>\n",
       "      <td>2002.0</td>\n",
       "      <td>Action</td>\n",
       "      <td>Take-Two Interactive</td>\n",
       "      <td>8.41</td>\n",
       "      <td>5.49</td>\n",
       "      <td>0.47</td>\n",
       "      <td>1.78</td>\n",
       "      <td>16.15</td>\n",
       "    </tr>\n",
       "    <tr>\n",
       "      <th>38</th>\n",
       "      <td>39</td>\n",
       "      <td>Grand Theft Auto III</td>\n",
       "      <td>PS2</td>\n",
       "      <td>2001.0</td>\n",
       "      <td>Action</td>\n",
       "      <td>Take-Two Interactive</td>\n",
       "      <td>6.99</td>\n",
       "      <td>4.51</td>\n",
       "      <td>0.30</td>\n",
       "      <td>1.30</td>\n",
       "      <td>13.10</td>\n",
       "    </tr>\n",
       "  </tbody>\n",
       "</table>\n",
       "</div>"
      ],
      "text/plain": [
       "    Rank                           Name Platform    Year   Genre  \\\n",
       "16    17             Grand Theft Auto V      PS3  2013.0  Action   \n",
       "17    18  Grand Theft Auto: San Andreas      PS2  2004.0  Action   \n",
       "23    24             Grand Theft Auto V     X360  2013.0  Action   \n",
       "24    25    Grand Theft Auto: Vice City      PS2  2002.0  Action   \n",
       "38    39           Grand Theft Auto III      PS2  2001.0  Action   \n",
       "\n",
       "               Publisher  NA_Sales  EU_Sales  JP_Sales  Other_Sales  \\\n",
       "16  Take-Two Interactive      7.01      9.27      0.97         4.14   \n",
       "17  Take-Two Interactive      9.43      0.40      0.41        10.57   \n",
       "23  Take-Two Interactive      9.63      5.31      0.06         1.38   \n",
       "24  Take-Two Interactive      8.41      5.49      0.47         1.78   \n",
       "38  Take-Two Interactive      6.99      4.51      0.30         1.30   \n",
       "\n",
       "    Global_Sales  \n",
       "16         21.40  \n",
       "17         20.81  \n",
       "23         16.38  \n",
       "24         16.15  \n",
       "38         13.10  "
      ]
     },
     "execution_count": 16,
     "metadata": {},
     "output_type": "execute_result"
    }
   ],
   "source": [
    "# top 5 Action games \n",
    "df1 = data[data['Genre'] == 'Action' ].head()\n",
    "df1"
   ]
  },
  {
   "cell_type": "code",
   "execution_count": 19,
   "id": "0495b004",
   "metadata": {
    "scrolled": true
   },
   "outputs": [
    {
     "data": {
      "text/plain": [
       "<AxesSubplot:xlabel='Global_Sales', ylabel='Name'>"
      ]
     },
     "execution_count": 19,
     "metadata": {},
     "output_type": "execute_result"
    },
    {
     "data": {
      "image/png": "[encoded data removed]",
      "text/plain": [
       "<Figure size 360x360 with 1 Axes>"
      ]
     },
     "metadata": {},
     "output_type": "display_data"
    }
   ],
   "source": [
    "sns.barplot(y=df1.Name.head(5),x=df1.Global_Sales.head(5))"
   ]
  },
  {
   "cell_type": "markdown",
   "id": "0ac53a56",
   "metadata": {},
   "source": [
    "#### what is top 5 sports games ? "
   ]
  },
  {
   "cell_type": "code",
   "execution_count": 22,
   "id": "a98033e9",
   "metadata": {
    "scrolled": true
   },
   "outputs": [
    {
     "data": {
      "text/html": [
       "<div>\n",
       "<style scoped>\n",
       "    .dataframe tbody tr th:only-of-type {\n",
       "        vertical-align: middle;\n",
       "    }\n",
       "\n",
       "    .dataframe tbody tr th {\n",
       "        vertical-align: top;\n",
       "    }\n",
       "\n",
       "    .dataframe thead th {\n",
       "        text-align: right;\n",
       "    }\n",
       "</style>\n",
       "<table border=\"1\" class=\"dataframe\">\n",
       "  <thead>\n",
       "    <tr style=\"text-align: right;\">\n",
       "      <th></th>\n",
       "      <th>Rank</th>\n",
       "      <th>Name</th>\n",
       "      <th>Platform</th>\n",
       "      <th>Year</th>\n",
       "      <th>Genre</th>\n",
       "      <th>Publisher</th>\n",
       "      <th>NA_Sales</th>\n",
       "      <th>EU_Sales</th>\n",
       "      <th>JP_Sales</th>\n",
       "      <th>Other_Sales</th>\n",
       "      <th>Global_Sales</th>\n",
       "    </tr>\n",
       "  </thead>\n",
       "  <tbody>\n",
       "    <tr>\n",
       "      <th>0</th>\n",
       "      <td>1</td>\n",
       "      <td>Wii Sports</td>\n",
       "      <td>Wii</td>\n",
       "      <td>2006.0</td>\n",
       "      <td>Sports</td>\n",
       "      <td>Nintendo</td>\n",
       "      <td>41.49</td>\n",
       "      <td>29.02</td>\n",
       "      <td>3.77</td>\n",
       "      <td>8.46</td>\n",
       "      <td>82.74</td>\n",
       "    </tr>\n",
       "    <tr>\n",
       "      <th>3</th>\n",
       "      <td>4</td>\n",
       "      <td>Wii Sports Resort</td>\n",
       "      <td>Wii</td>\n",
       "      <td>2009.0</td>\n",
       "      <td>Sports</td>\n",
       "      <td>Nintendo</td>\n",
       "      <td>15.75</td>\n",
       "      <td>11.01</td>\n",
       "      <td>3.28</td>\n",
       "      <td>2.96</td>\n",
       "      <td>33.00</td>\n",
       "    </tr>\n",
       "    <tr>\n",
       "      <th>13</th>\n",
       "      <td>14</td>\n",
       "      <td>Wii Fit</td>\n",
       "      <td>Wii</td>\n",
       "      <td>2007.0</td>\n",
       "      <td>Sports</td>\n",
       "      <td>Nintendo</td>\n",
       "      <td>8.94</td>\n",
       "      <td>8.03</td>\n",
       "      <td>3.60</td>\n",
       "      <td>2.15</td>\n",
       "      <td>22.72</td>\n",
       "    </tr>\n",
       "    <tr>\n",
       "      <th>14</th>\n",
       "      <td>15</td>\n",
       "      <td>Wii Fit Plus</td>\n",
       "      <td>Wii</td>\n",
       "      <td>2009.0</td>\n",
       "      <td>Sports</td>\n",
       "      <td>Nintendo</td>\n",
       "      <td>9.09</td>\n",
       "      <td>8.59</td>\n",
       "      <td>2.53</td>\n",
       "      <td>1.79</td>\n",
       "      <td>22.00</td>\n",
       "    </tr>\n",
       "    <tr>\n",
       "      <th>77</th>\n",
       "      <td>78</td>\n",
       "      <td>FIFA 16</td>\n",
       "      <td>PS4</td>\n",
       "      <td>2015.0</td>\n",
       "      <td>Sports</td>\n",
       "      <td>Electronic Arts</td>\n",
       "      <td>1.11</td>\n",
       "      <td>6.06</td>\n",
       "      <td>0.06</td>\n",
       "      <td>1.26</td>\n",
       "      <td>8.49</td>\n",
       "    </tr>\n",
       "  </tbody>\n",
       "</table>\n",
       "</div>"
      ],
      "text/plain": [
       "    Rank               Name Platform    Year   Genre        Publisher  \\\n",
       "0      1         Wii Sports      Wii  2006.0  Sports         Nintendo   \n",
       "3      4  Wii Sports Resort      Wii  2009.0  Sports         Nintendo   \n",
       "13    14            Wii Fit      Wii  2007.0  Sports         Nintendo   \n",
       "14    15       Wii Fit Plus      Wii  2009.0  Sports         Nintendo   \n",
       "77    78            FIFA 16      PS4  2015.0  Sports  Electronic Arts   \n",
       "\n",
       "    NA_Sales  EU_Sales  JP_Sales  Other_Sales  Global_Sales  \n",
       "0      41.49     29.02      3.77         8.46         82.74  \n",
       "3      15.75     11.01      3.28         2.96         33.00  \n",
       "13      8.94      8.03      3.60         2.15         22.72  \n",
       "14      9.09      8.59      2.53         1.79         22.00  \n",
       "77      1.11      6.06      0.06         1.26          8.49  "
      ]
     },
     "execution_count": 22,
     "metadata": {},
     "output_type": "execute_result"
    }
   ],
   "source": [
    "# top 5 sports games \n",
    "df2 = data[data['Genre'] == 'Sports' ].head()\n",
    "df2"
   ]
  },
  {
   "cell_type": "code",
   "execution_count": 23,
   "id": "5c3fd5dc",
   "metadata": {},
   "outputs": [
    {
     "data": {
      "text/plain": [
       "<AxesSubplot:xlabel='Global_Sales', ylabel='Name'>"
      ]
     },
     "execution_count": 23,
     "metadata": {},
     "output_type": "execute_result"
    },
    {
     "data": {
      "image/png": "[encoded data removed]",
      "text/plain": [
       "<Figure size 360x360 with 1 Axes>"
      ]
     },
     "metadata": {},
     "output_type": "display_data"
    }
   ],
   "source": [
    "sns.barplot(y=df2.Name.head(5),x=df2.Global_Sales.head(5))"
   ]
  },
  {
   "cell_type": "markdown",
   "id": "c10b3bf9",
   "metadata": {},
   "source": [
    "**what is the top 5 Misc games ?**"
   ]
  },
  {
   "cell_type": "code",
   "execution_count": 24,
   "id": "e4b6fa42",
   "metadata": {
    "scrolled": true
   },
   "outputs": [
    {
     "data": {
      "text/html": [
       "<div>\n",
       "<style scoped>\n",
       "    .dataframe tbody tr th:only-of-type {\n",
       "        vertical-align: middle;\n",
       "    }\n",
       "\n",
       "    .dataframe tbody tr th {\n",
       "        vertical-align: top;\n",
       "    }\n",
       "\n",
       "    .dataframe thead th {\n",
       "        text-align: right;\n",
       "    }\n",
       "</style>\n",
       "<table border=\"1\" class=\"dataframe\">\n",
       "  <thead>\n",
       "    <tr style=\"text-align: right;\">\n",
       "      <th></th>\n",
       "      <th>Rank</th>\n",
       "      <th>Name</th>\n",
       "      <th>Platform</th>\n",
       "      <th>Year</th>\n",
       "      <th>Genre</th>\n",
       "      <th>Publisher</th>\n",
       "      <th>NA_Sales</th>\n",
       "      <th>EU_Sales</th>\n",
       "      <th>JP_Sales</th>\n",
       "      <th>Other_Sales</th>\n",
       "      <th>Global_Sales</th>\n",
       "    </tr>\n",
       "  </thead>\n",
       "  <tbody>\n",
       "    <tr>\n",
       "      <th>7</th>\n",
       "      <td>8</td>\n",
       "      <td>Wii Play</td>\n",
       "      <td>Wii</td>\n",
       "      <td>2006.0</td>\n",
       "      <td>Misc</td>\n",
       "      <td>Nintendo</td>\n",
       "      <td>14.03</td>\n",
       "      <td>9.20</td>\n",
       "      <td>2.93</td>\n",
       "      <td>2.85</td>\n",
       "      <td>29.02</td>\n",
       "    </tr>\n",
       "    <tr>\n",
       "      <th>15</th>\n",
       "      <td>16</td>\n",
       "      <td>Kinect Adventures!</td>\n",
       "      <td>X360</td>\n",
       "      <td>2010.0</td>\n",
       "      <td>Misc</td>\n",
       "      <td>Microsoft Game Studios</td>\n",
       "      <td>14.97</td>\n",
       "      <td>4.94</td>\n",
       "      <td>0.24</td>\n",
       "      <td>1.67</td>\n",
       "      <td>21.82</td>\n",
       "    </tr>\n",
       "    <tr>\n",
       "      <th>19</th>\n",
       "      <td>20</td>\n",
       "      <td>Brain Age: Train Your Brain in Minutes a Day</td>\n",
       "      <td>DS</td>\n",
       "      <td>2005.0</td>\n",
       "      <td>Misc</td>\n",
       "      <td>Nintendo</td>\n",
       "      <td>4.75</td>\n",
       "      <td>9.26</td>\n",
       "      <td>4.16</td>\n",
       "      <td>2.05</td>\n",
       "      <td>20.22</td>\n",
       "    </tr>\n",
       "    <tr>\n",
       "      <th>60</th>\n",
       "      <td>61</td>\n",
       "      <td>Just Dance 3</td>\n",
       "      <td>Wii</td>\n",
       "      <td>2011.0</td>\n",
       "      <td>Misc</td>\n",
       "      <td>Ubisoft</td>\n",
       "      <td>6.05</td>\n",
       "      <td>3.15</td>\n",
       "      <td>0.00</td>\n",
       "      <td>1.07</td>\n",
       "      <td>10.26</td>\n",
       "    </tr>\n",
       "    <tr>\n",
       "      <th>68</th>\n",
       "      <td>69</td>\n",
       "      <td>Just Dance 2</td>\n",
       "      <td>Wii</td>\n",
       "      <td>2010.0</td>\n",
       "      <td>Misc</td>\n",
       "      <td>Ubisoft</td>\n",
       "      <td>5.84</td>\n",
       "      <td>2.89</td>\n",
       "      <td>0.01</td>\n",
       "      <td>0.78</td>\n",
       "      <td>9.52</td>\n",
       "    </tr>\n",
       "  </tbody>\n",
       "</table>\n",
       "</div>"
      ],
      "text/plain": [
       "    Rank                                          Name Platform    Year Genre  \\\n",
       "7      8                                      Wii Play      Wii  2006.0  Misc   \n",
       "15    16                            Kinect Adventures!     X360  2010.0  Misc   \n",
       "19    20  Brain Age: Train Your Brain in Minutes a Day       DS  2005.0  Misc   \n",
       "60    61                                  Just Dance 3      Wii  2011.0  Misc   \n",
       "68    69                                  Just Dance 2      Wii  2010.0  Misc   \n",
       "\n",
       "                 Publisher  NA_Sales  EU_Sales  JP_Sales  Other_Sales  \\\n",
       "7                 Nintendo     14.03      9.20      2.93         2.85   \n",
       "15  Microsoft Game Studios     14.97      4.94      0.24         1.67   \n",
       "19                Nintendo      4.75      9.26      4.16         2.05   \n",
       "60                 Ubisoft      6.05      3.15      0.00         1.07   \n",
       "68                 Ubisoft      5.84      2.89      0.01         0.78   \n",
       "\n",
       "    Global_Sales  \n",
       "7          29.02  \n",
       "15         21.82  \n",
       "19         20.22  \n",
       "60         10.26  \n",
       "68          9.52  "
      ]
     },
     "execution_count": 24,
     "metadata": {},
     "output_type": "execute_result"
    }
   ],
   "source": [
    "# top 5 Misc games \n",
    "df3 = data[data['Genre'] == 'Misc' ].head()\n",
    "df3"
   ]
  },
  {
   "cell_type": "code",
   "execution_count": 25,
   "id": "883d8c94",
   "metadata": {},
   "outputs": [
    {
     "data": {
      "text/plain": [
       "<AxesSubplot:xlabel='Global_Sales', ylabel='Name'>"
      ]
     },
     "execution_count": 25,
     "metadata": {},
     "output_type": "execute_result"
    },
    {
     "data": {
      "image/png": "[encoded data removed]",
      "text/plain": [
       "<Figure size 360x360 with 1 Axes>"
      ]
     },
     "metadata": {},
     "output_type": "display_data"
    }
   ],
   "source": [
    "sns.barplot(y=df3.Name.head(5),x=df3.Global_Sales.head(5))"
   ]
  },
  {
   "cell_type": "markdown",
   "id": "17cea348",
   "metadata": {},
   "source": [
    "#### what is the top 5 Role-Playing games ? "
   ]
  },
  {
   "cell_type": "code",
   "execution_count": 26,
   "id": "76ef54c3",
   "metadata": {
    "scrolled": true
   },
   "outputs": [
    {
     "data": {
      "text/html": [
       "<div>\n",
       "<style scoped>\n",
       "    .dataframe tbody tr th:only-of-type {\n",
       "        vertical-align: middle;\n",
       "    }\n",
       "\n",
       "    .dataframe tbody tr th {\n",
       "        vertical-align: top;\n",
       "    }\n",
       "\n",
       "    .dataframe thead th {\n",
       "        text-align: right;\n",
       "    }\n",
       "</style>\n",
       "<table border=\"1\" class=\"dataframe\">\n",
       "  <thead>\n",
       "    <tr style=\"text-align: right;\">\n",
       "      <th></th>\n",
       "      <th>Rank</th>\n",
       "      <th>Name</th>\n",
       "      <th>Platform</th>\n",
       "      <th>Year</th>\n",
       "      <th>Genre</th>\n",
       "      <th>Publisher</th>\n",
       "      <th>NA_Sales</th>\n",
       "      <th>EU_Sales</th>\n",
       "      <th>JP_Sales</th>\n",
       "      <th>Other_Sales</th>\n",
       "      <th>Global_Sales</th>\n",
       "    </tr>\n",
       "  </thead>\n",
       "  <tbody>\n",
       "    <tr>\n",
       "      <th>4</th>\n",
       "      <td>5</td>\n",
       "      <td>Pokemon Red/Pokemon Blue</td>\n",
       "      <td>GB</td>\n",
       "      <td>1996.0</td>\n",
       "      <td>Role-Playing</td>\n",
       "      <td>Nintendo</td>\n",
       "      <td>11.27</td>\n",
       "      <td>8.89</td>\n",
       "      <td>10.22</td>\n",
       "      <td>1.00</td>\n",
       "      <td>31.37</td>\n",
       "    </tr>\n",
       "    <tr>\n",
       "      <th>12</th>\n",
       "      <td>13</td>\n",
       "      <td>Pokemon Gold/Pokemon Silver</td>\n",
       "      <td>GB</td>\n",
       "      <td>1999.0</td>\n",
       "      <td>Role-Playing</td>\n",
       "      <td>Nintendo</td>\n",
       "      <td>9.00</td>\n",
       "      <td>6.18</td>\n",
       "      <td>7.20</td>\n",
       "      <td>0.71</td>\n",
       "      <td>23.10</td>\n",
       "    </tr>\n",
       "    <tr>\n",
       "      <th>20</th>\n",
       "      <td>21</td>\n",
       "      <td>Pokemon Diamond/Pokemon Pearl</td>\n",
       "      <td>DS</td>\n",
       "      <td>2006.0</td>\n",
       "      <td>Role-Playing</td>\n",
       "      <td>Nintendo</td>\n",
       "      <td>6.42</td>\n",
       "      <td>4.52</td>\n",
       "      <td>6.04</td>\n",
       "      <td>1.37</td>\n",
       "      <td>18.36</td>\n",
       "    </tr>\n",
       "    <tr>\n",
       "      <th>25</th>\n",
       "      <td>26</td>\n",
       "      <td>Pokemon Ruby/Pokemon Sapphire</td>\n",
       "      <td>GBA</td>\n",
       "      <td>2002.0</td>\n",
       "      <td>Role-Playing</td>\n",
       "      <td>Nintendo</td>\n",
       "      <td>6.06</td>\n",
       "      <td>3.90</td>\n",
       "      <td>5.38</td>\n",
       "      <td>0.50</td>\n",
       "      <td>15.85</td>\n",
       "    </tr>\n",
       "    <tr>\n",
       "      <th>26</th>\n",
       "      <td>27</td>\n",
       "      <td>Pokemon Black/Pokemon White</td>\n",
       "      <td>DS</td>\n",
       "      <td>2010.0</td>\n",
       "      <td>Role-Playing</td>\n",
       "      <td>Nintendo</td>\n",
       "      <td>5.57</td>\n",
       "      <td>3.28</td>\n",
       "      <td>5.65</td>\n",
       "      <td>0.82</td>\n",
       "      <td>15.32</td>\n",
       "    </tr>\n",
       "  </tbody>\n",
       "</table>\n",
       "</div>"
      ],
      "text/plain": [
       "    Rank                           Name Platform    Year         Genre  \\\n",
       "4      5       Pokemon Red/Pokemon Blue       GB  1996.0  Role-Playing   \n",
       "12    13    Pokemon Gold/Pokemon Silver       GB  1999.0  Role-Playing   \n",
       "20    21  Pokemon Diamond/Pokemon Pearl       DS  2006.0  Role-Playing   \n",
       "25    26  Pokemon Ruby/Pokemon Sapphire      GBA  2002.0  Role-Playing   \n",
       "26    27    Pokemon Black/Pokemon White       DS  2010.0  Role-Playing   \n",
       "\n",
       "   Publisher  NA_Sales  EU_Sales  JP_Sales  Other_Sales  Global_Sales  \n",
       "4   Nintendo     11.27      8.89     10.22         1.00         31.37  \n",
       "12  Nintendo      9.00      6.18      7.20         0.71         23.10  \n",
       "20  Nintendo      6.42      4.52      6.04         1.37         18.36  \n",
       "25  Nintendo      6.06      3.90      5.38         0.50         15.85  \n",
       "26  Nintendo      5.57      3.28      5.65         0.82         15.32  "
      ]
     },
     "execution_count": 26,
     "metadata": {},
     "output_type": "execute_result"
    }
   ],
   "source": [
    "# top 5 Role-Playing games\n",
    "df4 = data[data['Genre'] == 'Role-Playing' ].head()\n",
    "df4"
   ]
  },
  {
   "cell_type": "code",
   "execution_count": 27,
   "id": "06a65fd1",
   "metadata": {},
   "outputs": [
    {
     "data": {
      "text/plain": [
       "<AxesSubplot:xlabel='Global_Sales', ylabel='Name'>"
      ]
     },
     "execution_count": 27,
     "metadata": {},
     "output_type": "execute_result"
    },
    {
     "data": {
      "image/png": "[encoded data removed]",
      "text/plain": [
       "<Figure size 360x360 with 1 Axes>"
      ]
     },
     "metadata": {},
     "output_type": "display_data"
    }
   ],
   "source": [
    "sns.barplot(y=df4.Name.head(5),x=df4.Global_Sales.head(5))"
   ]
  },
  {
   "cell_type": "markdown",
   "id": "1a89900a",
   "metadata": {},
   "source": [
    "**what is the best shooter games?**"
   ]
  },
  {
   "cell_type": "code",
   "execution_count": 28,
   "id": "1baeb7c0",
   "metadata": {
    "scrolled": true
   },
   "outputs": [
    {
     "data": {
      "text/html": [
       "<div>\n",
       "<style scoped>\n",
       "    .dataframe tbody tr th:only-of-type {\n",
       "        vertical-align: middle;\n",
       "    }\n",
       "\n",
       "    .dataframe tbody tr th {\n",
       "        vertical-align: top;\n",
       "    }\n",
       "\n",
       "    .dataframe thead th {\n",
       "        text-align: right;\n",
       "    }\n",
       "</style>\n",
       "<table border=\"1\" class=\"dataframe\">\n",
       "  <thead>\n",
       "    <tr style=\"text-align: right;\">\n",
       "      <th></th>\n",
       "      <th>Rank</th>\n",
       "      <th>Name</th>\n",
       "      <th>Platform</th>\n",
       "      <th>Year</th>\n",
       "      <th>Genre</th>\n",
       "      <th>Publisher</th>\n",
       "      <th>NA_Sales</th>\n",
       "      <th>EU_Sales</th>\n",
       "      <th>JP_Sales</th>\n",
       "      <th>Other_Sales</th>\n",
       "      <th>Global_Sales</th>\n",
       "    </tr>\n",
       "  </thead>\n",
       "  <tbody>\n",
       "    <tr>\n",
       "      <th>9</th>\n",
       "      <td>10</td>\n",
       "      <td>Duck Hunt</td>\n",
       "      <td>NES</td>\n",
       "      <td>1984.0</td>\n",
       "      <td>Shooter</td>\n",
       "      <td>Nintendo</td>\n",
       "      <td>26.93</td>\n",
       "      <td>0.63</td>\n",
       "      <td>0.28</td>\n",
       "      <td>0.47</td>\n",
       "      <td>28.31</td>\n",
       "    </tr>\n",
       "    <tr>\n",
       "      <th>29</th>\n",
       "      <td>30</td>\n",
       "      <td>Call of Duty: Modern Warfare 3</td>\n",
       "      <td>X360</td>\n",
       "      <td>2011.0</td>\n",
       "      <td>Shooter</td>\n",
       "      <td>Activision</td>\n",
       "      <td>9.03</td>\n",
       "      <td>4.28</td>\n",
       "      <td>0.13</td>\n",
       "      <td>1.32</td>\n",
       "      <td>14.76</td>\n",
       "    </tr>\n",
       "    <tr>\n",
       "      <th>31</th>\n",
       "      <td>32</td>\n",
       "      <td>Call of Duty: Black Ops</td>\n",
       "      <td>X360</td>\n",
       "      <td>2010.0</td>\n",
       "      <td>Shooter</td>\n",
       "      <td>Activision</td>\n",
       "      <td>9.67</td>\n",
       "      <td>3.73</td>\n",
       "      <td>0.11</td>\n",
       "      <td>1.13</td>\n",
       "      <td>14.64</td>\n",
       "    </tr>\n",
       "    <tr>\n",
       "      <th>33</th>\n",
       "      <td>34</td>\n",
       "      <td>Call of Duty: Black Ops 3</td>\n",
       "      <td>PS4</td>\n",
       "      <td>2015.0</td>\n",
       "      <td>Shooter</td>\n",
       "      <td>Activision</td>\n",
       "      <td>5.77</td>\n",
       "      <td>5.81</td>\n",
       "      <td>0.35</td>\n",
       "      <td>2.31</td>\n",
       "      <td>14.24</td>\n",
       "    </tr>\n",
       "    <tr>\n",
       "      <th>34</th>\n",
       "      <td>35</td>\n",
       "      <td>Call of Duty: Black Ops II</td>\n",
       "      <td>PS3</td>\n",
       "      <td>2012.0</td>\n",
       "      <td>Shooter</td>\n",
       "      <td>Activision</td>\n",
       "      <td>4.99</td>\n",
       "      <td>5.88</td>\n",
       "      <td>0.65</td>\n",
       "      <td>2.52</td>\n",
       "      <td>14.03</td>\n",
       "    </tr>\n",
       "  </tbody>\n",
       "</table>\n",
       "</div>"
      ],
      "text/plain": [
       "    Rank                            Name Platform    Year    Genre  \\\n",
       "9     10                       Duck Hunt      NES  1984.0  Shooter   \n",
       "29    30  Call of Duty: Modern Warfare 3     X360  2011.0  Shooter   \n",
       "31    32         Call of Duty: Black Ops     X360  2010.0  Shooter   \n",
       "33    34       Call of Duty: Black Ops 3      PS4  2015.0  Shooter   \n",
       "34    35      Call of Duty: Black Ops II      PS3  2012.0  Shooter   \n",
       "\n",
       "     Publisher  NA_Sales  EU_Sales  JP_Sales  Other_Sales  Global_Sales  \n",
       "9     Nintendo     26.93      0.63      0.28         0.47         28.31  \n",
       "29  Activision      9.03      4.28      0.13         1.32         14.76  \n",
       "31  Activision      9.67      3.73      0.11         1.13         14.64  \n",
       "33  Activision      5.77      5.81      0.35         2.31         14.24  \n",
       "34  Activision      4.99      5.88      0.65         2.52         14.03  "
      ]
     },
     "execution_count": 28,
     "metadata": {},
     "output_type": "execute_result"
    }
   ],
   "source": [
    "# top 5 Shooter games\n",
    "df5=data[data['Genre'] == 'Shooter' ].head()\n",
    "df5"
   ]
  },
  {
   "cell_type": "code",
   "execution_count": 29,
   "id": "4f2b3a47",
   "metadata": {
    "scrolled": true
   },
   "outputs": [
    {
     "data": {
      "text/plain": [
       "<AxesSubplot:xlabel='Global_Sales', ylabel='Name'>"
      ]
     },
     "execution_count": 29,
     "metadata": {},
     "output_type": "execute_result"
    },
    {
     "data": {
      "image/png": "[encoded data removed]",
      "text/plain": [
       "<Figure size 360x360 with 1 Axes>"
      ]
     },
     "metadata": {},
     "output_type": "display_data"
    }
   ],
   "source": [
    "sns.barplot(y=df5.Name.head(5),x=df5.Global_Sales.head(5))"
   ]
  },
  {
   "cell_type": "markdown",
   "id": "2e95e292",
   "metadata": {},
   "source": [
    "#### Cleanning the data "
   ]
  },
  {
   "cell_type": "code",
   "execution_count": 30,
   "id": "11c66e82",
   "metadata": {
    "scrolled": true
   },
   "outputs": [
    {
     "data": {
      "text/html": [
       "<div>\n",
       "<style scoped>\n",
       "    .dataframe tbody tr th:only-of-type {\n",
       "        vertical-align: middle;\n",
       "    }\n",
       "\n",
       "    .dataframe tbody tr th {\n",
       "        vertical-align: top;\n",
       "    }\n",
       "\n",
       "    .dataframe thead th {\n",
       "        text-align: right;\n",
       "    }\n",
       "</style>\n",
       "<table border=\"1\" class=\"dataframe\">\n",
       "  <thead>\n",
       "    <tr style=\"text-align: right;\">\n",
       "      <th></th>\n",
       "      <th>NA_Sales</th>\n",
       "      <th>EU_Sales</th>\n",
       "      <th>JP_Sales</th>\n",
       "      <th>Other_Sales</th>\n",
       "      <th>Global_Sales</th>\n",
       "    </tr>\n",
       "  </thead>\n",
       "  <tbody>\n",
       "    <tr>\n",
       "      <th>count</th>\n",
       "      <td>16598.000000</td>\n",
       "      <td>16598.000000</td>\n",
       "      <td>16598.000000</td>\n",
       "      <td>16598.000000</td>\n",
       "      <td>16598.000000</td>\n",
       "    </tr>\n",
       "    <tr>\n",
       "      <th>mean</th>\n",
       "      <td>0.264667</td>\n",
       "      <td>0.146652</td>\n",
       "      <td>0.077782</td>\n",
       "      <td>0.048063</td>\n",
       "      <td>0.537441</td>\n",
       "    </tr>\n",
       "    <tr>\n",
       "      <th>std</th>\n",
       "      <td>0.816683</td>\n",
       "      <td>0.505351</td>\n",
       "      <td>0.309291</td>\n",
       "      <td>0.188588</td>\n",
       "      <td>1.555028</td>\n",
       "    </tr>\n",
       "    <tr>\n",
       "      <th>min</th>\n",
       "      <td>0.000000</td>\n",
       "      <td>0.000000</td>\n",
       "      <td>0.000000</td>\n",
       "      <td>0.000000</td>\n",
       "      <td>0.010000</td>\n",
       "    </tr>\n",
       "    <tr>\n",
       "      <th>25%</th>\n",
       "      <td>0.000000</td>\n",
       "      <td>0.000000</td>\n",
       "      <td>0.000000</td>\n",
       "      <td>0.000000</td>\n",
       "      <td>0.060000</td>\n",
       "    </tr>\n",
       "    <tr>\n",
       "      <th>50%</th>\n",
       "      <td>0.080000</td>\n",
       "      <td>0.020000</td>\n",
       "      <td>0.000000</td>\n",
       "      <td>0.010000</td>\n",
       "      <td>0.170000</td>\n",
       "    </tr>\n",
       "    <tr>\n",
       "      <th>75%</th>\n",
       "      <td>0.240000</td>\n",
       "      <td>0.110000</td>\n",
       "      <td>0.040000</td>\n",
       "      <td>0.040000</td>\n",
       "      <td>0.470000</td>\n",
       "    </tr>\n",
       "    <tr>\n",
       "      <th>max</th>\n",
       "      <td>41.490000</td>\n",
       "      <td>29.020000</td>\n",
       "      <td>10.220000</td>\n",
       "      <td>10.570000</td>\n",
       "      <td>82.740000</td>\n",
       "    </tr>\n",
       "  </tbody>\n",
       "</table>\n",
       "</div>"
      ],
      "text/plain": [
       "           NA_Sales      EU_Sales      JP_Sales   Other_Sales  Global_Sales\n",
       "count  16598.000000  16598.000000  16598.000000  16598.000000  16598.000000\n",
       "mean       0.264667      0.146652      0.077782      0.048063      0.537441\n",
       "std        0.816683      0.505351      0.309291      0.188588      1.555028\n",
       "min        0.000000      0.000000      0.000000      0.000000      0.010000\n",
       "25%        0.000000      0.000000      0.000000      0.000000      0.060000\n",
       "50%        0.080000      0.020000      0.000000      0.010000      0.170000\n",
       "75%        0.240000      0.110000      0.040000      0.040000      0.470000\n",
       "max       41.490000     29.020000     10.220000     10.570000     82.740000"
      ]
     },
     "execution_count": 30,
     "metadata": {},
     "output_type": "execute_result"
    }
   ],
   "source": [
    "data.describe()[['NA_Sales','EU_Sales','JP_Sales','Other_Sales','Global_Sales']]"
   ]
  },
  {
   "cell_type": "markdown",
   "id": "b36e6008",
   "metadata": {},
   "source": [
    "***Which are the genres with highest sales in North America ?***"
   ]
  },
  {
   "cell_type": "code",
   "execution_count": 31,
   "id": "61a89a36",
   "metadata": {},
   "outputs": [],
   "source": [
    "q1 = data['NA_Sales'].quantile(0.25)\n",
    "q3 = data['NA_Sales'].quantile(0.75)\n",
    "iqr = q3 - q1 \n",
    "min_wiskar = q1 - iqr * 1.5\n",
    "max_wiskar = q3 + iqr * 1.5 \n",
    "no_outliers = data[data['NA_Sales'].between(min_wiskar,max_wiskar)]"
   ]
  },
  {
   "cell_type": "code",
   "execution_count": 25,
   "id": "a4766c4f",
   "metadata": {
    "scrolled": true
   },
   "outputs": [
    {
     "data": {
      "text/plain": [
       "<AxesSubplot:xlabel='Genre', ylabel='NA_Sales'>"
      ]
     },
     "execution_count": 25,
     "metadata": {},
     "output_type": "execute_result"
    },
    {
     "data": {
      "image/png": "[encoded data removed]",
      "text/plain": [
       "<Figure size 864x864 with 1 Axes>"
      ]
     },
     "metadata": {},
     "output_type": "display_data"
    }
   ],
   "source": [
    "sns.barplot(x = 'Genre'  , y = 'NA_Sales' , data = no_outliers )"
   ]
  },
  {
   "cell_type": "markdown",
   "id": "a2ed0c98",
   "metadata": {},
   "source": [
    "***Which are the genres with highest sales in Europe  ?***"
   ]
  },
  {
   "cell_type": "code",
   "execution_count": 26,
   "id": "3fbd9986",
   "metadata": {},
   "outputs": [],
   "source": [
    "q1 = data['EU_Sales'].quantile(0.25)\n",
    "q3 = data['EU_Sales'].quantile(0.75)\n",
    "iqr = q3 - q1 \n",
    "min_wiskar = q1 - iqr * 1.5\n",
    "max_wiskar = q3 + iqr * 1.5 \n",
    "no_outliers = data[data['EU_Sales'].between(min_wiskar,max_wiskar)]"
   ]
  },
  {
   "cell_type": "code",
   "execution_count": 27,
   "id": "efee1b4b",
   "metadata": {
    "scrolled": true
   },
   "outputs": [
    {
     "data": {
      "text/plain": [
       "<AxesSubplot:xlabel='Genre', ylabel='EU_Sales'>"
      ]
     },
     "execution_count": 27,
     "metadata": {},
     "output_type": "execute_result"
    },
    {
     "data": {
      "image/png": "[encoded data removed]",
      "text/plain": [
       "<Figure size 864x864 with 1 Axes>"
      ]
     },
     "metadata": {},
     "output_type": "display_data"
    }
   ],
   "source": [
    "sns.barplot(x = 'Genre'  , y = 'EU_Sales' , data = no_outliers )"
   ]
  },
  {
   "cell_type": "markdown",
   "id": "15b92c32",
   "metadata": {},
   "source": [
    "***Which are the genres with highest sales in jpan ?***"
   ]
  },
  {
   "cell_type": "code",
   "execution_count": 28,
   "id": "a44efcce",
   "metadata": {},
   "outputs": [],
   "source": [
    "q1 = data['JP_Sales'].quantile(0.25)\n",
    "q3 = data['JP_Sales'].quantile(0.75)\n",
    "iqr = q3 - q1 \n",
    "min_wiskar = q1 - iqr * 1.5\n",
    "max_wiskar = q3 + iqr * 1.5 \n",
    "no_outliers = data[data['JP_Sales'].between(min_wiskar,max_wiskar)]"
   ]
  },
  {
   "cell_type": "code",
   "execution_count": 29,
   "id": "a479ddfa",
   "metadata": {
    "scrolled": true
   },
   "outputs": [
    {
     "data": {
      "text/plain": [
       "<AxesSubplot:xlabel='Genre', ylabel='JP_Sales'>"
      ]
     },
     "execution_count": 29,
     "metadata": {},
     "output_type": "execute_result"
    },
    {
     "data": {
      "image/png": "[encoded data removed]",
      "text/plain": [
       "<Figure size 864x864 with 1 Axes>"
      ]
     },
     "metadata": {},
     "output_type": "display_data"
    }
   ],
   "source": [
    "sns.barplot(x = 'Genre'  , y = 'JP_Sales' , data = no_outliers )"
   ]
  },
  {
   "cell_type": "markdown",
   "id": "cad377d9",
   "metadata": {},
   "source": [
    "#### Which are the genres with highest sales in rest of the world ?"
   ]
  },
  {
   "cell_type": "code",
   "execution_count": 30,
   "id": "627a8b8f",
   "metadata": {},
   "outputs": [],
   "source": [
    "q1 = data['Other_Sales'].quantile(0.25)\n",
    "q3 = data['Other_Sales'].quantile(0.75)\n",
    "iqr = q3 - q1 \n",
    "min_wiskar = q1 - iqr * 1.5\n",
    "max_wiskar = q3 + iqr * 1.5 \n",
    "no_outliers = data[data['Other_Sales'].between(min_wiskar,max_wiskar)]"
   ]
  },
  {
   "cell_type": "code",
   "execution_count": 31,
   "id": "c5250071",
   "metadata": {
    "scrolled": true
   },
   "outputs": [
    {
     "data": {
      "text/plain": [
       "<AxesSubplot:xlabel='Genre', ylabel='Other_Sales'>"
      ]
     },
     "execution_count": 31,
     "metadata": {},
     "output_type": "execute_result"
    },
    {
     "data": {
      "image/png": "[encoded data removed]",
      "text/plain": [
       "<Figure size 864x864 with 1 Axes>"
      ]
     },
     "metadata": {},
     "output_type": "display_data"
    }
   ],
   "source": [
    "sns.barplot(x = 'Genre'  , y = 'Other_Sales' , data = no_outliers )"
   ]
  },
  {
   "cell_type": "markdown",
   "id": "fc5193fa",
   "metadata": {},
   "source": [
    "***Which are the genres with highest sales in  of The total worldwide ?***"
   ]
  },
  {
   "cell_type": "code",
   "execution_count": 32,
   "id": "eee4a6bc",
   "metadata": {},
   "outputs": [],
   "source": [
    "q1 = data['Global_Sales'].quantile(0.25)\n",
    "q3 = data['Global_Sales'].quantile(0.75)\n",
    "iqr = q3 - q1 \n",
    "min_wiskar = q1 - iqr * 1.5\n",
    "max_wiskar = q3 + iqr * 1.5 \n",
    "no_outliers = data[data['Global_Sales'].between(min_wiskar,max_wiskar)]"
   ]
  },
  {
   "cell_type": "code",
   "execution_count": 33,
   "id": "32670fe6",
   "metadata": {},
   "outputs": [
    {
     "data": {
      "text/plain": [
       "<AxesSubplot:xlabel='Genre'>"
      ]
     },
     "execution_count": 33,
     "metadata": {},
     "output_type": "execute_result"
    },
    {
     "data": {
      "image/png": "[encoded data removed]",
      "text/plain": [
       "<Figure size 864x864 with 1 Axes>"
      ]
     },
     "metadata": {},
     "output_type": "display_data"
    }
   ],
   "source": [
    "sns.barplot(x =data.groupby([\"Genre\"])[\"Global_Sales\"].sum().index  , y = data.groupby([\"Genre\"])[\"Global_Sales\"].sum().values  )"
   ]
  },
  {
   "cell_type": "markdown",
   "id": "60de74a4",
   "metadata": {},
   "source": [
    "#### what is tha best publisher by GLobal sales ?"
   ]
  },
  {
   "cell_type": "code",
   "execution_count": 34,
   "id": "1df13c30",
   "metadata": {
    "scrolled": false
   },
   "outputs": [],
   "source": [
    "pub=data.groupby([\"Publisher\"])[\"Global_Sales\"].sum().sort_values(ascending=False).head(5)"
   ]
  },
  {
   "cell_type": "code",
   "execution_count": 35,
   "id": "1fbb15a0",
   "metadata": {
    "scrolled": true
   },
   "outputs": [
    {
     "data": {
      "text/plain": [
       "<AxesSubplot:xlabel='Publisher'>"
      ]
     },
     "execution_count": 35,
     "metadata": {},
     "output_type": "execute_result"
    },
    {
     "data": {
      "image/png": "[encoded data removed]",
      "text/plain": [
       "<Figure size 864x864 with 1 Axes>"
      ]
     },
     "metadata": {},
     "output_type": "display_data"
    }
   ],
   "source": [
    "sns.barplot(x = pub.index , y = pub.values )"
   ]
  },
  {
   "cell_type": "markdown",
   "id": "eb03ad1d",
   "metadata": {},
   "source": [
    "#### what is tha best Platform by GLobal sales ? "
   ]
  },
  {
   "cell_type": "code",
   "execution_count": 36,
   "id": "c201c777",
   "metadata": {},
   "outputs": [
    {
     "data": {
      "text/plain": [
       "Platform\n",
       "PS2     1255.64\n",
       "X360     979.96\n",
       "PS3      957.84\n",
       "Wii      926.71\n",
       "DS       822.49\n",
       "PS       730.66\n",
       "GBA      318.50\n",
       "PSP      296.28\n",
       "PS4      278.10\n",
       "PC       258.82\n",
       "Name: Global_Sales, dtype: float64"
      ]
     },
     "execution_count": 36,
     "metadata": {},
     "output_type": "execute_result"
    }
   ],
   "source": [
    "plat = data.groupby([\"Platform\"])[\"Global_Sales\"].sum().sort_values(ascending=False).head(10)\n",
    "plat"
   ]
  },
  {
   "cell_type": "code",
   "execution_count": 37,
   "id": "a290517a",
   "metadata": {},
   "outputs": [
    {
     "data": {
      "text/plain": [
       "<AxesSubplot:xlabel='Platform', ylabel='Global_Sales'>"
      ]
     },
     "execution_count": 37,
     "metadata": {},
     "output_type": "execute_result"
    },
    {
     "data": {
      "image/png": "[encoded data removed]",
      "text/plain": [
       "<Figure size 864x864 with 1 Axes>"
      ]
     },
     "metadata": {},
     "output_type": "display_data"
    }
   ],
   "source": [
    "sns.barplot(x=plat.index,y=plat)"
   ]
  },
  {
   "cell_type": "code",
   "execution_count": 38,
   "id": "a97ab3f2",
   "metadata": {},
   "outputs": [
    {
     "name": "stderr",
     "output_type": "stream",
     "text": [
      "<ipython-input-38-5f0295591c22>:1: FutureWarning: Indexing with multiple keys (implicitly converted to a tuple of keys) will be deprecated, use a list instead.\n",
      "  data.groupby(['Year'])['NA_Sales','JP_Sales','EU_Sales','Other_Sales'].sum()\n"
     ]
    },
    {
     "data": {
      "text/html": [
       "<div>\n",
       "<style scoped>\n",
       "    .dataframe tbody tr th:only-of-type {\n",
       "        vertical-align: middle;\n",
       "    }\n",
       "\n",
       "    .dataframe tbody tr th {\n",
       "        vertical-align: top;\n",
       "    }\n",
       "\n",
       "    .dataframe thead th {\n",
       "        text-align: right;\n",
       "    }\n",
       "</style>\n",
       "<table border=\"1\" class=\"dataframe\">\n",
       "  <thead>\n",
       "    <tr style=\"text-align: right;\">\n",
       "      <th></th>\n",
       "      <th>NA_Sales</th>\n",
       "      <th>JP_Sales</th>\n",
       "      <th>EU_Sales</th>\n",
       "      <th>Other_Sales</th>\n",
       "    </tr>\n",
       "    <tr>\n",
       "      <th>Year</th>\n",
       "      <th></th>\n",
       "      <th></th>\n",
       "      <th></th>\n",
       "      <th></th>\n",
       "    </tr>\n",
       "  </thead>\n",
       "  <tbody>\n",
       "    <tr>\n",
       "      <th>1980.0</th>\n",
       "      <td>10.59</td>\n",
       "      <td>0.00</td>\n",
       "      <td>0.67</td>\n",
       "      <td>0.12</td>\n",
       "    </tr>\n",
       "    <tr>\n",
       "      <th>1981.0</th>\n",
       "      <td>33.40</td>\n",
       "      <td>0.00</td>\n",
       "      <td>1.96</td>\n",
       "      <td>0.32</td>\n",
       "    </tr>\n",
       "    <tr>\n",
       "      <th>1982.0</th>\n",
       "      <td>26.92</td>\n",
       "      <td>0.00</td>\n",
       "      <td>1.65</td>\n",
       "      <td>0.31</td>\n",
       "    </tr>\n",
       "    <tr>\n",
       "      <th>1983.0</th>\n",
       "      <td>7.76</td>\n",
       "      <td>8.10</td>\n",
       "      <td>0.80</td>\n",
       "      <td>0.14</td>\n",
       "    </tr>\n",
       "    <tr>\n",
       "      <th>1984.0</th>\n",
       "      <td>33.28</td>\n",
       "      <td>14.27</td>\n",
       "      <td>2.10</td>\n",
       "      <td>0.70</td>\n",
       "    </tr>\n",
       "    <tr>\n",
       "      <th>1985.0</th>\n",
       "      <td>33.73</td>\n",
       "      <td>14.56</td>\n",
       "      <td>4.74</td>\n",
       "      <td>0.92</td>\n",
       "    </tr>\n",
       "    <tr>\n",
       "      <th>1986.0</th>\n",
       "      <td>12.50</td>\n",
       "      <td>19.81</td>\n",
       "      <td>2.84</td>\n",
       "      <td>1.93</td>\n",
       "    </tr>\n",
       "    <tr>\n",
       "      <th>1987.0</th>\n",
       "      <td>8.46</td>\n",
       "      <td>11.63</td>\n",
       "      <td>1.41</td>\n",
       "      <td>0.20</td>\n",
       "    </tr>\n",
       "    <tr>\n",
       "      <th>1988.0</th>\n",
       "      <td>23.87</td>\n",
       "      <td>15.76</td>\n",
       "      <td>6.59</td>\n",
       "      <td>0.99</td>\n",
       "    </tr>\n",
       "    <tr>\n",
       "      <th>1989.0</th>\n",
       "      <td>45.15</td>\n",
       "      <td>18.36</td>\n",
       "      <td>8.44</td>\n",
       "      <td>1.50</td>\n",
       "    </tr>\n",
       "    <tr>\n",
       "      <th>1990.0</th>\n",
       "      <td>25.46</td>\n",
       "      <td>14.88</td>\n",
       "      <td>7.63</td>\n",
       "      <td>1.40</td>\n",
       "    </tr>\n",
       "    <tr>\n",
       "      <th>1991.0</th>\n",
       "      <td>12.76</td>\n",
       "      <td>14.78</td>\n",
       "      <td>3.95</td>\n",
       "      <td>0.74</td>\n",
       "    </tr>\n",
       "    <tr>\n",
       "      <th>1992.0</th>\n",
       "      <td>33.87</td>\n",
       "      <td>28.91</td>\n",
       "      <td>11.71</td>\n",
       "      <td>1.65</td>\n",
       "    </tr>\n",
       "    <tr>\n",
       "      <th>1993.0</th>\n",
       "      <td>15.12</td>\n",
       "      <td>25.33</td>\n",
       "      <td>4.65</td>\n",
       "      <td>0.89</td>\n",
       "    </tr>\n",
       "    <tr>\n",
       "      <th>1994.0</th>\n",
       "      <td>28.15</td>\n",
       "      <td>33.99</td>\n",
       "      <td>14.88</td>\n",
       "      <td>2.20</td>\n",
       "    </tr>\n",
       "    <tr>\n",
       "      <th>1995.0</th>\n",
       "      <td>24.82</td>\n",
       "      <td>45.75</td>\n",
       "      <td>14.90</td>\n",
       "      <td>2.64</td>\n",
       "    </tr>\n",
       "    <tr>\n",
       "      <th>1996.0</th>\n",
       "      <td>86.76</td>\n",
       "      <td>57.44</td>\n",
       "      <td>47.26</td>\n",
       "      <td>7.69</td>\n",
       "    </tr>\n",
       "    <tr>\n",
       "      <th>1997.0</th>\n",
       "      <td>94.75</td>\n",
       "      <td>48.87</td>\n",
       "      <td>48.32</td>\n",
       "      <td>9.13</td>\n",
       "    </tr>\n",
       "    <tr>\n",
       "      <th>1998.0</th>\n",
       "      <td>128.36</td>\n",
       "      <td>50.04</td>\n",
       "      <td>66.90</td>\n",
       "      <td>11.03</td>\n",
       "    </tr>\n",
       "    <tr>\n",
       "      <th>1999.0</th>\n",
       "      <td>126.06</td>\n",
       "      <td>52.34</td>\n",
       "      <td>62.67</td>\n",
       "      <td>10.05</td>\n",
       "    </tr>\n",
       "    <tr>\n",
       "      <th>2000.0</th>\n",
       "      <td>94.49</td>\n",
       "      <td>42.77</td>\n",
       "      <td>52.75</td>\n",
       "      <td>11.62</td>\n",
       "    </tr>\n",
       "    <tr>\n",
       "      <th>2001.0</th>\n",
       "      <td>173.98</td>\n",
       "      <td>39.86</td>\n",
       "      <td>94.89</td>\n",
       "      <td>22.76</td>\n",
       "    </tr>\n",
       "    <tr>\n",
       "      <th>2002.0</th>\n",
       "      <td>216.19</td>\n",
       "      <td>41.76</td>\n",
       "      <td>109.74</td>\n",
       "      <td>27.28</td>\n",
       "    </tr>\n",
       "    <tr>\n",
       "      <th>2003.0</th>\n",
       "      <td>193.59</td>\n",
       "      <td>34.20</td>\n",
       "      <td>103.81</td>\n",
       "      <td>26.01</td>\n",
       "    </tr>\n",
       "    <tr>\n",
       "      <th>2004.0</th>\n",
       "      <td>222.59</td>\n",
       "      <td>41.65</td>\n",
       "      <td>107.32</td>\n",
       "      <td>47.29</td>\n",
       "    </tr>\n",
       "    <tr>\n",
       "      <th>2005.0</th>\n",
       "      <td>242.61</td>\n",
       "      <td>54.28</td>\n",
       "      <td>121.94</td>\n",
       "      <td>40.58</td>\n",
       "    </tr>\n",
       "    <tr>\n",
       "      <th>2006.0</th>\n",
       "      <td>263.12</td>\n",
       "      <td>73.73</td>\n",
       "      <td>129.24</td>\n",
       "      <td>54.43</td>\n",
       "    </tr>\n",
       "    <tr>\n",
       "      <th>2007.0</th>\n",
       "      <td>312.05</td>\n",
       "      <td>60.29</td>\n",
       "      <td>160.50</td>\n",
       "      <td>77.60</td>\n",
       "    </tr>\n",
       "    <tr>\n",
       "      <th>2008.0</th>\n",
       "      <td>351.44</td>\n",
       "      <td>60.26</td>\n",
       "      <td>184.40</td>\n",
       "      <td>82.39</td>\n",
       "    </tr>\n",
       "    <tr>\n",
       "      <th>2009.0</th>\n",
       "      <td>338.85</td>\n",
       "      <td>61.89</td>\n",
       "      <td>191.59</td>\n",
       "      <td>74.77</td>\n",
       "    </tr>\n",
       "    <tr>\n",
       "      <th>2010.0</th>\n",
       "      <td>304.24</td>\n",
       "      <td>59.49</td>\n",
       "      <td>176.73</td>\n",
       "      <td>59.90</td>\n",
       "    </tr>\n",
       "    <tr>\n",
       "      <th>2011.0</th>\n",
       "      <td>241.06</td>\n",
       "      <td>53.04</td>\n",
       "      <td>167.44</td>\n",
       "      <td>54.39</td>\n",
       "    </tr>\n",
       "    <tr>\n",
       "      <th>2012.0</th>\n",
       "      <td>154.96</td>\n",
       "      <td>51.74</td>\n",
       "      <td>118.78</td>\n",
       "      <td>37.82</td>\n",
       "    </tr>\n",
       "    <tr>\n",
       "      <th>2013.0</th>\n",
       "      <td>154.77</td>\n",
       "      <td>47.59</td>\n",
       "      <td>125.80</td>\n",
       "      <td>39.82</td>\n",
       "    </tr>\n",
       "    <tr>\n",
       "      <th>2014.0</th>\n",
       "      <td>131.97</td>\n",
       "      <td>39.46</td>\n",
       "      <td>125.65</td>\n",
       "      <td>40.02</td>\n",
       "    </tr>\n",
       "    <tr>\n",
       "      <th>2015.0</th>\n",
       "      <td>102.82</td>\n",
       "      <td>33.72</td>\n",
       "      <td>97.71</td>\n",
       "      <td>30.01</td>\n",
       "    </tr>\n",
       "    <tr>\n",
       "      <th>2016.0</th>\n",
       "      <td>22.66</td>\n",
       "      <td>13.70</td>\n",
       "      <td>26.76</td>\n",
       "      <td>7.75</td>\n",
       "    </tr>\n",
       "    <tr>\n",
       "      <th>2017.0</th>\n",
       "      <td>0.00</td>\n",
       "      <td>0.05</td>\n",
       "      <td>0.00</td>\n",
       "      <td>0.00</td>\n",
       "    </tr>\n",
       "    <tr>\n",
       "      <th>2020.0</th>\n",
       "      <td>0.27</td>\n",
       "      <td>0.00</td>\n",
       "      <td>0.00</td>\n",
       "      <td>0.02</td>\n",
       "    </tr>\n",
       "  </tbody>\n",
       "</table>\n",
       "</div>"
      ],
      "text/plain": [
       "        NA_Sales  JP_Sales  EU_Sales  Other_Sales\n",
       "Year                                             \n",
       "1980.0     10.59      0.00      0.67         0.12\n",
       "1981.0     33.40      0.00      1.96         0.32\n",
       "1982.0     26.92      0.00      1.65         0.31\n",
       "1983.0      7.76      8.10      0.80         0.14\n",
       "1984.0     33.28     14.27      2.10         0.70\n",
       "1985.0     33.73     14.56      4.74         0.92\n",
       "1986.0     12.50     19.81      2.84         1.93\n",
       "1987.0      8.46     11.63      1.41         0.20\n",
       "1988.0     23.87     15.76      6.59         0.99\n",
       "1989.0     45.15     18.36      8.44         1.50\n",
       "1990.0     25.46     14.88      7.63         1.40\n",
       "1991.0     12.76     14.78      3.95         0.74\n",
       "1992.0     33.87     28.91     11.71         1.65\n",
       "1993.0     15.12     25.33      4.65         0.89\n",
       "1994.0     28.15     33.99     14.88         2.20\n",
       "1995.0     24.82     45.75     14.90         2.64\n",
       "1996.0     86.76     57.44     47.26         7.69\n",
       "1997.0     94.75     48.87     48.32         9.13\n",
       "1998.0    128.36     50.04     66.90        11.03\n",
       "1999.0    126.06     52.34     62.67        10.05\n",
       "2000.0     94.49     42.77     52.75        11.62\n",
       "2001.0    173.98     39.86     94.89        22.76\n",
       "2002.0    216.19     41.76    109.74        27.28\n",
       "2003.0    193.59     34.20    103.81        26.01\n",
       "2004.0    222.59     41.65    107.32        47.29\n",
       "2005.0    242.61     54.28    121.94        40.58\n",
       "2006.0    263.12     73.73    129.24        54.43\n",
       "2007.0    312.05     60.29    160.50        77.60\n",
       "2008.0    351.44     60.26    184.40        82.39\n",
       "2009.0    338.85     61.89    191.59        74.77\n",
       "2010.0    304.24     59.49    176.73        59.90\n",
       "2011.0    241.06     53.04    167.44        54.39\n",
       "2012.0    154.96     51.74    118.78        37.82\n",
       "2013.0    154.77     47.59    125.80        39.82\n",
       "2014.0    131.97     39.46    125.65        40.02\n",
       "2015.0    102.82     33.72     97.71        30.01\n",
       "2016.0     22.66     13.70     26.76         7.75\n",
       "2017.0      0.00      0.05      0.00         0.00\n",
       "2020.0      0.27      0.00      0.00         0.02"
      ]
     },
     "execution_count": 38,
     "metadata": {},
     "output_type": "execute_result"
    }
   ],
   "source": [
    "data.groupby(['Year'])['NA_Sales','JP_Sales','EU_Sales','Other_Sales'].sum()"
   ]
  },
  {
   "cell_type": "markdown",
   "id": "5c5f7d66",
   "metadata": {},
   "source": [
    "#### what is the trend of video games Sales between regions ?"
   ]
  },
  {
   "cell_type": "code",
   "execution_count": 39,
   "id": "281f8e69",
   "metadata": {
    "scrolled": true
   },
   "outputs": [
    {
     "name": "stderr",
     "output_type": "stream",
     "text": [
      "<ipython-input-39-0f46fcc0fdfa>:1: FutureWarning: Indexing with multiple keys (implicitly converted to a tuple of keys) will be deprecated, use a list instead.\n",
      "  data.groupby(['Year'])['NA_Sales','JP_Sales','EU_Sales','Other_Sales'].sum().plot()\n"
     ]
    },
    {
     "data": {
      "text/plain": [
       "<AxesSubplot:xlabel='Year'>"
      ]
     },
     "execution_count": 39,
     "metadata": {},
     "output_type": "execute_result"
    },
    {
     "data": {
      "image/png": "[encoded data removed]",
      "text/plain": [
       "<Figure size 864x864 with 1 Axes>"
      ]
     },
     "metadata": {},
     "output_type": "display_data"
    }
   ],
   "source": [
    "data.groupby(['Year'])['NA_Sales','JP_Sales','EU_Sales','Other_Sales'].sum().plot()"
   ]
  },
  {
   "cell_type": "markdown",
   "id": "55143df1",
   "metadata": {},
   "source": [
    "## Conclusion"
   ]
  },
  {
   "cell_type": "markdown",
   "id": "b7f0e4fb",
   "metadata": {},
   "source": [
    "* There is more the 5 genre in video games \n",
    "* Action , sports and misc have higher games than other genre \n",
    "* Grand Thef Auto games have the higest sales in acton games \n",
    "* Wii sports has the higest sales in sports games \n",
    "* Wii play has the higest sales in Misc games \n",
    "* pokemon games has the higest sales in Role-playing \n",
    "* Dunk hunt has the highest sales in shooter games but Call of duty series have higher than it \n",
    "* Platform , Shooter and Sports are the highest sales in North America \n",
    "* Shooter , platform and Racing are the highest sales in Europ\n",
    "* Role-playing , Adventure and Fighting are the the highest  sales in Japan\n",
    "* Action , sports and shooter are the higest sales in the global-sales\n",
    "* Nitenrdo , Eletronic Arts and Activision are the best puplisher in the  world \n",
    "* PS2 , x360 and PS3 are the best plateform in the world "
   ]
  }
 ],
 "metadata": {
  "kernelspec": {
   "display_name": "Python 3 (ipykernel)",
   "language": "python",
   "name": "python3"
  },
  "language_info": {
   "codemirror_mode": {
    "name": "ipython",
    "version": 3
   },
   "file_extension": ".py",
   "mimetype": "text/x-python",
   "name": "python",
   "nbconvert_exporter": "python",
   "pygments_lexer": "ipython3",
   "version": "3.9.7"
  }
 },
 "nbformat": 4,
 "nbformat_minor": 5
}
